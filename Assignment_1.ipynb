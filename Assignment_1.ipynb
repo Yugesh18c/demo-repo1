{
  "cells": [
    {
      "cell_type": "code",
      "execution_count": null,
      "metadata": {
        "id": "XRRVk6Aqo21i"
      },
      "outputs": [],
      "source": [
        "!pip install langchain langchain-experimental langchain-openai --quiet"
      ]
    },
    {
      "cell_type": "code",
      "execution_count": null,
      "metadata": {
        "id": "CXpV3d--sJni"
      },
      "outputs": [],
      "source": [
        "!pip install langfuse --quiet"
      ]
    },
    {
      "cell_type": "code",
      "execution_count": null,
      "metadata": {
        "id": "Ntb_XQeXsNEi"
      },
      "outputs": [],
      "source": [
        "!pip install --upgrade --quiet  yfinance langchain-community"
      ]
    },
    {
      "cell_type": "code",
      "execution_count": null,
      "metadata": {
        "id": "Y4HtYVjIp_zQ"
      },
      "outputs": [],
      "source": [
        "#AZURE Env variables\n",
        "AZURE_OPENAI_API_KEY=\"04f9a983b5d747baac8c74a75c0d525a\"\n",
        "AZURE_OPENAI_ENDPOINT=\"https://swedencentral.api.cognitive.microsoft.com/\"\n",
        "OPENAI_API_VERSION=\"2024-02-15-preview\""
      ]
    },
    {
      "cell_type": "code",
      "execution_count": null,
      "metadata": {
        "id": "4SoPethrri_g"
      },
      "outputs": [],
      "source": [
        "#Importing packages\n",
        "from langchain_openai import AzureChatOpenAI\n",
        "from langchain_core.prompts import ChatPromptTemplate\n",
        "\n",
        "from langchain.tools import Tool\n",
        "from langchain_community.tools.yahoo_finance_news import YahooFinanceNewsTool\n",
        "from langfuse.decorators import observe\n",
        "\n",
        "from langchain_core.prompts import ChatPromptTemplate\n",
        "from langchain_core.runnables import RunnableLambda\n",
        "\n",
        "import yfinance as yf\n",
        "import json"
      ]
    },
    {
      "cell_type": "code",
      "execution_count": null,
      "metadata": {
        "id": "Tn_zdK58qBml"
      },
      "outputs": [],
      "source": [
        "model = AzureChatOpenAI(\n",
        "    api_key=AZURE_OPENAI_API_KEY,\n",
        "    api_version=\"2024-12-01-preview\",\n",
        "    azure_endpoint=AZURE_OPENAI_ENDPOINT,model='telcogpt'\n",
        "    )"
      ]
    },
    {
      "cell_type": "code",
      "execution_count": null,
      "metadata": {
        "id": "UTkpBlcQAAbH"
      },
      "outputs": [],
      "source": [
        "from langfuse.openai import AzureOpenAI\n",
        "\n",
        "client = AzureOpenAI(\n",
        "    api_key=AZURE_OPENAI_API_KEY,\n",
        "    api_version=\"2024-12-01-preview\",\n",
        "    azure_endpoint=AZURE_OPENAI_ENDPOINT\n",
        "    )"
      ]
    },
    {
      "cell_type": "code",
      "execution_count": null,
      "metadata": {
        "id": "VwS6L50hr2iR"
      },
      "outputs": [],
      "source": [
        "import os\n",
        "os.environ[\"LANGFUSE_PUBLIC_KEY\"] = \"pk-lf-92dfa19a-b728-4b43-8463-ea1c65750959\"\n",
        "os.environ[\"LANGFUSE_SECRET_KEY\"] = \"sk-lf-bc7ec232-2199-410a-a875-8f4009d5a1c9\"\n",
        "os.environ[\"LANGFUSE_HOST\"] = \"https://cloud.langfuse.com\""
      ]
    },
    {
      "cell_type": "code",
      "execution_count": null,
      "metadata": {
        "id": "gEl_wClC0-V3"
      },
      "outputs": [],
      "source": [
        "generate_prompt = ChatPromptTemplate.from_template(\"Enter company name (e.g., 'Apple Inc'): {task}\")\n"
      ]
    },
    {
      "cell_type": "code",
      "execution_count": null,
      "metadata": {
        "id": "GsJv7-t-wJ29"
      },
      "outputs": [],
      "source": [
        "# Step 1: Accept Input (Prompt to accept Company Name)\n",
        "\n",
        "@observe()\n",
        "def generate_prompt(company_name: str)-> str:\n",
        "    return input(\"Enter company name (e.g., 'Apple Inc'): \")"
      ]
    },
    {
      "cell_type": "code",
      "execution_count": null,
      "metadata": {
        "id": "8ZW0oygvxWps"
      },
      "outputs": [],
      "source": [
        "# Step 2: Get Stock Code\n",
        "# When full company name passed, this would return Company Symbol Code\n",
        "\n",
        "@observe()\n",
        "def get_stock_code(company_name: str) -> str:\n",
        "        try:\n",
        "            search = yf.Ticker(company_name)\n",
        "            symbol = search.info.get(\"symbol\")\n",
        "            if not symbol:\n",
        "                raise ValueError(\"Symbol not found in info.\")\n",
        "            return symbol\n",
        "        except Exception:\n",
        "            # Fallback: Static map\n",
        "            static_map = {\n",
        "                \"Apple Inc\": \"AAPL\",\n",
        "                \"Microsoft Corporation\": \"MSFT\",\n",
        "                \"Tesla Inc\": \"TSLA\",\n",
        "                \"Amazon.com Inc\": \"AMZN\",\n",
        "                \"Oracle Corporation\":\"ORCL\"\n",
        "            }\n",
        "            return static_map.get(company_name, \"UNKNOWN\")"
      ]
    },
    {
      "cell_type": "code",
      "execution_count": null,
      "metadata": {
        "id": "IQhXn-Ws3Znt"
      },
      "outputs": [],
      "source": [
        "#Step 3: Fetch Company News using YahooFinanceNewsTool\n",
        "\n",
        "@observe()\n",
        "def fetch_news(ticker: str) -> str:\n",
        "        yahoo_tool = YahooFinanceNewsTool()\n",
        "        tool = Tool.from_function(\n",
        "            func=yahoo_tool.run,\n",
        "            name=\"YahooFinanceNews\",\n",
        "            description=\"Fetch recent news summaries, recent headlines and article summaries for this stock ticker in more than 200 words\"\n",
        "        )\n",
        "        return tool.run(ticker)"
      ]
    },
    {
      "cell_type": "code",
      "execution_count": null,
      "metadata": {
        "id": "NtnrT7q2m4ZA",
        "colab": {
          "base_uri": "https://localhost:8080/",
          "height": 107
        },
        "outputId": "acdb3c9f-e1d1-426f-c2da-35f446009e9e"
      },
      "outputs": [
        {
          "output_type": "execute_result",
          "data": {
            "text/plain": [
              "\"Tesla Robotaxi Nearing Launch: Buy, Hold or Sell the Stock Now?\\nTSLA jumps 23% in the past month on robotaxi hype, but with a few launch details and fading EV sales, is the rally built to last?\\n\\nMarket Chatter: Tesla Executives Troubled by Musk's Denial of $25,000 EV Cancellation\\nTesla (TSLA) Chief Executive Elon Musk's denial last year of a Reuters report about the cancellation\\n\\nIs Trending Stock Tesla, Inc. (TSLA) a Buy Now?\\nTesla (TSLA) has received quite a bit of attention from Zacks.com users lately. Therefore, it is wise to be aware of the facts that can impact the stock's prospects.\""
            ],
            "application/vnd.google.colaboratory.intrinsic+json": {
              "type": "string"
            }
          },
          "metadata": {},
          "execution_count": 23
        }
      ],
      "source": [
        "fetch_news(\"TSLA\")"
      ]
    },
    {
      "cell_type": "code",
      "execution_count": null,
      "metadata": {
        "id": "WRrqnhUY374C"
      },
      "outputs": [],
      "source": [
        "from langchain.output_parsers import PydanticOutputParser\n",
        "from pydantic import BaseModel, Field\n",
        "from typing import List"
      ]
    },
    {
      "cell_type": "code",
      "execution_count": null,
      "metadata": {
        "id": "uog8ZdxD9mna"
      },
      "outputs": [],
      "source": [
        "# SentimentProfile Class to be used for parsing\n",
        "class SentimentProfile(BaseModel):\n",
        "    company_name: str = Field(...)\n",
        "    stock_code: str = Field(...)\n",
        "    newsdesc: str = Field(...)\n",
        "    sentiment: str = Field(..., description=\"Positive, Negative, or Neutral\")\n",
        "    people_names: List[str]\n",
        "    places_names: List[str]\n",
        "    other_companies_referred: List[str]\n",
        "    related_industries: List[str]\n",
        "    market_implications: str\n",
        "    confidence_score: float = Field(..., ge=0.0, le=1.0)\n",
        "\n",
        "parser = PydanticOutputParser(pydantic_object=SentimentProfile)"
      ]
    },
    {
      "cell_type": "code",
      "execution_count": null,
      "metadata": {
        "id": "knYLfu0iKq9a"
      },
      "outputs": [],
      "source": [
        "# Step 4: Function to analyze the Sentiment\n",
        "\n",
        "def analyze_sentiment(news_summary: str):\n",
        "        system_msg = \"You are Analyst who are expert at financial news sentiment and entity analysis .\"\n",
        "        user_msg = f\"\"\"\n",
        "Given the news headlines below for a company, analyze the overall sentiment Classify sentiment,\n",
        "extract named entities: people, places, other companies and finally Provide a structured JSON with the following fields:\n",
        " company_name, stock_code, newsdesc, sentiment,Positive/Negative/Neutral, people_names,\n",
        "  places_names, other_companies_referred, related_industries, market_implications,confidence_score\n",
        "\n",
        "News:\n",
        "{news_summary}\n",
        "\n",
        "Respond in the following JSON format:\n",
        "{parser.get_format_instructions()}\n",
        "\"\"\"\n",
        "        response = client.chat.completions.create(\n",
        "            model=\"telcogpt\",\n",
        "            messages=[\n",
        "                {\"role\": \"system\", \"content\": system_msg},\n",
        "                {\"role\": \"user\", \"content\": user_msg}\n",
        "            ],\n",
        "            temperature=0.2,\n",
        "        )\n",
        "\n",
        "        content=response.choices[0].message.content\n",
        "        return parser.parse(content)"
      ]
    },
    {
      "cell_type": "code",
      "execution_count": null,
      "metadata": {
        "id": "rXKEI9iet-b8"
      },
      "outputs": [],
      "source": [
        "# Define chain\n",
        "chain1 =  RunnableLambda(generate_prompt) | RunnableLambda(get_stock_code)|RunnableLambda(fetch_news)|RunnableLambda(analyze_sentiment)"
      ]
    },
    {
      "cell_type": "code",
      "execution_count": 33,
      "metadata": {
        "id": "VCmPExcFxLpj",
        "colab": {
          "base_uri": "https://localhost:8080/",
          "height": 0
        },
        "outputId": "23cc6e6a-85a8-412d-84b3-181a7eb4d1d9"
      },
      "outputs": [
        {
          "output_type": "stream",
          "name": "stdout",
          "text": [
            "Enter company name (e.g., 'Apple Inc'): Tesla Inc\n",
            "company_name='Tesla, Inc.' stock_code='TSLA' newsdesc=\"Tesla Robotaxi Nearing Launch: Buy, Hold or Sell the Stock Now? TSLA jumps 23% in the past month on robotaxi hype, but with a few launch details and fading EV sales, is the rally built to last? Market Chatter: Tesla Executives Troubled by Musk's Denial of $25,000 EV Cancellation Tesla (TSLA) Chief Executive Elon Musk's denial last year of a Reuters report about the cancellation. Is Trending Stock Tesla, Inc. (TSLA) a Buy Now? Tesla (TSLA) has received quite a bit of attention from Zacks.com users lately. Therefore, it is wise to be aware of the facts that can impact the stock's prospects.\" sentiment='Mixed' people_names=['Elon Musk'] places_names=[] other_companies_referred=['Zacks.com', 'Reuters'] related_industries=['Automotive', 'Electric Vehicles'] market_implications=\"The news indicates a volatile sentiment around Tesla's stock, with potential for both positive and negative impacts depending on the success of the robotaxi launch and the overall EV market performance.\" confidence_score=0.75\n"
          ]
        }
      ],
      "source": [
        "# Invole Chain\n",
        "op = chain1.invoke({\"Company_Name\"})\n",
        "print(op)"
      ]
    }
  ],
  "metadata": {
    "colab": {
      "provenance": []
    },
    "kernelspec": {
      "display_name": "Python 3",
      "name": "python3"
    },
    "language_info": {
      "name": "python"
    }
  },
  "nbformat": 4,
  "nbformat_minor": 0
}